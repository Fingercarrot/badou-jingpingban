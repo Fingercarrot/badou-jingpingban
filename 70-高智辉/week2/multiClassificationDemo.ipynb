{
 "cells": [
  {
   "cell_type": "markdown",
   "id": "49620a218b91931",
   "metadata": {
    "collapsed": false,
    "jupyter": {
     "outputs_hidden": false
    }
   },
   "source": [
    "# 模型训练\n",
    "\n",
    "五维判断：x是一个5维向量，输出极小值坐标"
   ]
  },
  {
   "cell_type": "code",
   "execution_count": 1,
   "id": "initial_id",
   "metadata": {
    "ExecuteTime": {
     "end_time": "2024-01-04T09:49:43.002398500Z",
     "start_time": "2024-01-04T09:49:37.556701200Z"
    }
   },
   "outputs": [
    {
     "name": "stderr",
     "output_type": "stream",
     "text": [
      "C:\\Users\\Roger\\AppData\\Local\\Temp\\ipykernel_428\\1641862666.py:49: UserWarning: Creating a tensor from a list of numpy.ndarrays is extremely slow. Please consider converting the list to a single numpy.ndarray with numpy.array() before converting to a tensor. (Triggered internally at C:\\actions-runner\\_work\\pytorch\\pytorch\\builder\\windows\\pytorch\\torch\\csrc\\utils\\tensor_new.cpp:264.)\n",
      "  return torch.FloatTensor(X), torch.LongTensor(Y)\n"
     ]
    },
    {
     "name": "stdout",
     "output_type": "stream",
     "text": [
      "epoch: 1, loss: 1.583599\n",
      "correct: 34, rate: 0.340000\n",
      "epoch: 2, loss: 1.563375\n",
      "correct: 44, rate: 0.440000\n",
      "epoch: 3, loss: 1.542597\n",
      "correct: 60, rate: 0.600000\n",
      "epoch: 4, loss: 1.521206\n",
      "correct: 44, rate: 0.440000\n",
      "epoch: 5, loss: 1.499250\n",
      "correct: 69, rate: 0.690000\n",
      "epoch: 6, loss: 1.477198\n",
      "correct: 76, rate: 0.760000\n",
      "epoch: 7, loss: 1.455790\n",
      "correct: 83, rate: 0.830000\n",
      "epoch: 8, loss: 1.435495\n",
      "correct: 86, rate: 0.860000\n",
      "epoch: 9, loss: 1.416428\n",
      "correct: 90, rate: 0.900000\n",
      "epoch: 10, loss: 1.398567\n",
      "correct: 93, rate: 0.930000\n",
      "epoch: 11, loss: 1.381861\n",
      "correct: 84, rate: 0.840000\n",
      "epoch: 12, loss: 1.366246\n",
      "correct: 90, rate: 0.900000\n",
      "epoch: 13, loss: 1.351654\n",
      "correct: 94, rate: 0.940000\n",
      "epoch: 14, loss: 1.338011\n",
      "correct: 95, rate: 0.950000\n",
      "epoch: 15, loss: 1.325246\n",
      "correct: 98, rate: 0.980000\n",
      "epoch: 16, loss: 1.313290\n",
      "correct: 95, rate: 0.950000\n",
      "epoch: 17, loss: 1.302075\n",
      "correct: 94, rate: 0.940000\n",
      "epoch: 18, loss: 1.291542\n",
      "correct: 100, rate: 1.000000\n",
      "epoch: 19, loss: 1.281634\n",
      "correct: 98, rate: 0.980000\n",
      "epoch: 20, loss: 1.272301\n",
      "correct: 97, rate: 0.970000\n",
      "epoch: 21, loss: 1.263496\n",
      "correct: 97, rate: 0.970000\n",
      "epoch: 22, loss: 1.255177\n",
      "correct: 96, rate: 0.960000\n",
      "epoch: 23, loss: 1.247308\n",
      "correct: 95, rate: 0.950000\n",
      "epoch: 24, loss: 1.239854\n",
      "correct: 98, rate: 0.980000\n",
      "epoch: 25, loss: 1.232784\n",
      "correct: 96, rate: 0.960000\n",
      "epoch: 26, loss: 1.226071\n",
      "correct: 99, rate: 0.990000\n",
      "epoch: 27, loss: 1.219689\n",
      "correct: 97, rate: 0.970000\n",
      "epoch: 28, loss: 1.213616\n",
      "correct: 96, rate: 0.960000\n",
      "epoch: 29, loss: 1.207830\n",
      "correct: 95, rate: 0.950000\n",
      "epoch: 30, loss: 1.202313\n",
      "correct: 97, rate: 0.970000\n",
      "epoch: 31, loss: 1.197048\n",
      "correct: 99, rate: 0.990000\n",
      "epoch: 32, loss: 1.192017\n",
      "correct: 100, rate: 1.000000\n",
      "epoch: 33, loss: 1.187208\n",
      "correct: 95, rate: 0.950000\n",
      "epoch: 34, loss: 1.182606\n",
      "correct: 97, rate: 0.970000\n",
      "epoch: 35, loss: 1.178198\n",
      "correct: 98, rate: 0.980000\n",
      "epoch: 36, loss: 1.173973\n",
      "correct: 95, rate: 0.950000\n",
      "epoch: 37, loss: 1.169921\n",
      "correct: 99, rate: 0.990000\n",
      "epoch: 38, loss: 1.166032\n",
      "correct: 97, rate: 0.970000\n",
      "epoch: 39, loss: 1.162296\n",
      "correct: 99, rate: 0.990000\n",
      "epoch: 40, loss: 1.158705\n",
      "correct: 100, rate: 1.000000\n",
      "epoch: 41, loss: 1.155251\n",
      "correct: 98, rate: 0.980000\n",
      "epoch: 42, loss: 1.151926\n",
      "correct: 99, rate: 0.990000\n",
      "epoch: 43, loss: 1.148723\n",
      "correct: 100, rate: 1.000000\n",
      "epoch: 44, loss: 1.145637\n",
      "correct: 95, rate: 0.950000\n",
      "epoch: 45, loss: 1.142661\n",
      "correct: 98, rate: 0.980000\n",
      "epoch: 46, loss: 1.139789\n",
      "correct: 97, rate: 0.970000\n",
      "epoch: 47, loss: 1.137016\n",
      "correct: 99, rate: 0.990000\n",
      "epoch: 48, loss: 1.134336\n",
      "correct: 98, rate: 0.980000\n",
      "epoch: 49, loss: 1.131747\n",
      "correct: 96, rate: 0.960000\n",
      "epoch: 50, loss: 1.129242\n",
      "correct: 99, rate: 0.990000\n",
      "[[0.34, 1.5835992450714111], [0.44, 1.5633752865791322], [0.6, 1.542597047328949], [0.44, 1.5212061762809754], [0.69, 1.4992502064704896], [0.76, 1.4771979813575744], [0.83, 1.4557897720336914], [0.86, 1.4354946947097778], [0.9, 1.4164275569915772], [0.93, 1.3985669355392456], [0.84, 1.3818607726097107], [0.9, 1.3662461128234864], [0.94, 1.3516536660194396], [0.95, 1.338011166572571], [0.98, 1.3252464418411254], [0.95, 1.3132897095680236], [0.94, 1.302075264930725], [1.0, 1.291542076587677], [0.98, 1.281634292602539], [0.97, 1.2723009276390076], [0.97, 1.2634958739280702], [0.96, 1.2551774802207947], [0.95, 1.247308081150055], [0.98, 1.2398538069725036], [0.96, 1.2327839708328248], [0.99, 1.2260706968307495], [0.97, 1.219688826084137], [0.96, 1.2136155061721803], [0.95, 1.2078299598693847], [0.97, 1.2023131194114685], [0.99, 1.197047555923462], [1.0, 1.1920173144340516], [0.95, 1.18720782995224], [0.97, 1.18260551071167], [0.98, 1.1781978640556336], [0.95, 1.1739733724594117], [0.99, 1.1699213819503784], [0.97, 1.1660319871902465], [0.99, 1.1622959756851197], [1.0, 1.158704840183258], [0.98, 1.1552505564689637], [0.99, 1.1519257183074951], [1.0, 1.1487234101295472], [0.95, 1.1456371006965638], [0.98, 1.1426607370376587], [0.97, 1.1397886710166931], [0.99, 1.1370155410766603], [0.98, 1.1343364772796631], [0.96, 1.131746829032898], [0.99, 1.1292421078681947]]\n"
     ]
    },
    {
     "data": {
      "image/png": "[encoded data removed]",
      "text/plain": [
       "<Figure size 640x480 with 1 Axes>"
      ]
     },
     "metadata": {},
     "output_type": "display_data"
    }
   ],
   "source": [
    "import numpy as np\n",
    "import torch\n",
    "import torch.nn as nn\n",
    "import matplotlib.pyplot as plt\n",
    "\n",
    "# 定义TorchModelDemo的类，继承nn.Module（pytorch中定义神经网络模型的基类）\n",
    "class TorchModelDemo(nn.Module):\n",
    "    # 初始化方法，定义模型的结构和参数，input_size是输入特征的大小\n",
    "    def __init__(self, input_size):\n",
    "        # 调用父类的的初始化方法\n",
    "        super(TorchModelDemo, self).__init__()\n",
    "        # 定义一个线性层（全连接层，输入大小为input_size, 输出大小为5）\n",
    "        self.linear = nn.Linear(input_size, 5) # 线性层\n",
    "        # 定义损失函数\n",
    "        self.loss = nn.functional.cross_entropy # 问题： 为何采用交叉熵损失 适用于分类问题，特别是多类别分类问题。\n",
    "    \n",
    "    # y 真实标签数据\n",
    "    def forward(self, x, y=None):\n",
    "        # 输入x通过线性层进行线性变换，得到输出x的预测结果\n",
    "        y_pred = self.linear(x)\n",
    "        y_pred = torch.softmax(y_pred, dim=1) # dim=1参数表示在第1个维度（列维度）上应用Softmax函数，以确保每个样本的输出向量都被转换为概率分布\n",
    "        if y is not None:\n",
    "            return self.loss(y_pred, y)  # 预测值和真实值计算损失\n",
    "        else:\n",
    "            return y_pred  # 输出预测结果\n",
    "\n",
    "        \n",
    "def build_sample():\n",
    "    x = np.random.random(5)\n",
    "    min_index = np.argmin(x)\n",
    "    if min_index == 0:\n",
    "        return x, 0\n",
    "    elif min_index == 1:\n",
    "        return x, 1\n",
    "    elif min_index == 2:\n",
    "        return x, 2\n",
    "    elif min_index == 3:\n",
    "        return x, 3\n",
    "    else:\n",
    "        return x, 4\n",
    "    \n",
    "def build_dataset(total_sample_num):\n",
    "    X = []\n",
    "    Y = []\n",
    "    for i in range(total_sample_num):\n",
    "        x, y = build_sample()\n",
    "        X.append(x)\n",
    "        Y.append(y)\n",
    "    return torch.FloatTensor(X), torch.LongTensor(Y)\n",
    "\n",
    "def evaluate(model):\n",
    "    # 将模型设置为评估模式\n",
    "    model.eval()\n",
    "    test_sample_num = 100\n",
    "    x, y = build_dataset(test_sample_num)\n",
    "    correct, wrong = 0, 0\n",
    "    # 使用torch.no_grad()上下文管理器，禁用梯度计算，在评估过程中，不需要计算梯度，因此可以通过使用torch.no_grad()来提高运行效率\n",
    "    with torch.no_grad():\n",
    "        y_pred = model(x)\n",
    "        for y_p, y_t in zip(y_pred, y):\n",
    "            # print(\"y_p:\", y_p, \"y_t:\", y_t)\n",
    "            if torch.argmax(y_p) == int(y_t):\n",
    "                correct += 1\n",
    "            else:\n",
    "                wrong += 1\n",
    "    print(\"correct: %d, rate: %f\" % (correct, correct / (correct + wrong)))\n",
    "    return correct / (correct + wrong)\n",
    "    \n",
    "def train():\n",
    "    # 训练轮数是指将整个训练数据集在模型上迭代的次数。选择训练轮数时，通常需要考虑模型在训练数据上的表现和收敛情况。如果模型在训练数据上仍然有提升空间，可以增加训练轮数。但是，如果训练轮数过大，可能会导致过拟合的问题。\n",
    "    epoch_num = 50  # 训练轮数\n",
    "    # 批次大小是指在每个训练步骤中用于更新模型的样本数量。较大的批次大小可以提高训练的效率，因为可以通过并行计算来加速模型更新。然而，较大的批次大小可能会导致内存消耗增加，并且可能会让模型陷入局部最小值。较小的批次大小可能会导致训练过程更加随机，但也可能需要更多的训练步骤才能收敛。\n",
    "    batch_size = 20\n",
    "    input_size = 5\n",
    "    # 学习率是控制模型参数在每次更新中的调整幅度。较大的学习率可以加快模型的收敛速度，但可能会导致参数在损失函数表面上跳动较大，使得模型无法收敛。较小的学习率可能需要更多的训练步骤才能收敛，但往往能够更稳定地找到较优的参数。\n",
    "    learning_rate = 0.001  # 学习率\n",
    "    train_sample = 5000  # 每轮训练总共训练的样本总数\n",
    "    \n",
    "    model = TorchModelDemo(input_size)\n",
    "    optim = torch.optim.Adam(model.parameters(), lr=learning_rate)\n",
    "    log = []\n",
    "    \n",
    "    train_x, train_y = build_dataset(train_sample)\n",
    "    \n",
    "    for epoch in range(epoch_num):\n",
    "        model.train()\n",
    "        watch_loss = []\n",
    "        for batch_index in range(train_sample // batch_size):\n",
    "            x = train_x[batch_index * batch_size:(batch_index + 1) * batch_size]\n",
    "            y = train_y[batch_index * batch_size:(batch_index + 1) * batch_size]\n",
    "            # 使用模型进行前向传播并计算损失值\n",
    "            loss = model(x, y)\n",
    "            # 反向传播，计算梯度\n",
    "            # Backpropagation： 用于计算神经网络中每个参数对于损失函数的梯度\n",
    "            # 反向传播通过链式法则，从输出层向输入层逐层计算梯度，然后利用梯度下降等优化算法更新参数，以最小化损失函数\n",
    "            loss.backward()\n",
    "            # 更新模型参数，根据计算得到的梯度和学习率\n",
    "            # 优化器对象方法，用于更新模型的参数，在反向传播计算得到参数的梯度之后，调用optim.step()\n",
    "            # 可以根据优化算法（如梯度下降）的规则，通过梯度信息更新模型的参数值，使其朝着损失函数下降的方向前进\n",
    "            # 一般而言，更新参数的过程可以表示为：参数 = 参数 - 学习率 * 参数的梯度\n",
    "            optim.step()\n",
    "            # 清零梯度， 为下一轮学习准备\n",
    "            optim.zero_grad()\n",
    "            watch_loss.append(loss.item())\n",
    "        print(\"epoch: %d, loss: %f\" % (epoch+1, np.mean(watch_loss)))\n",
    "        acc = evaluate(model)\n",
    "        log.append([acc, float(np.mean(watch_loss))])\n",
    "    torch.save(model.state_dict(),\"model.pt\")\n",
    "    print(log)\n",
    "    plt.plot(range(len(log)), [l[0] for l in log], label=\"acc\")\n",
    "    plt.plot(range(len(log)), [l[1] for l in log], label=\"loss\")\n",
    "    plt.legend()\n",
    "    plt.show()\n",
    "    return\n",
    "\n",
    "train()"
   ]
  },
  {
   "cell_type": "markdown",
   "id": "9384eed038a5610",
   "metadata": {
    "collapsed": false,
    "jupyter": {
     "outputs_hidden": false
    }
   },
   "source": [
    "# 模型测试"
   ]
  },
  {
   "cell_type": "code",
   "execution_count": 2,
   "id": "add9af0443d5a488",
   "metadata": {
    "ExecuteTime": {
     "end_time": "2024-01-04T09:19:44.025480100Z",
     "start_time": "2024-01-04T09:19:44.007480600Z"
    },
    "collapsed": false,
    "jupyter": {
     "outputs_hidden": false
    }
   },
   "outputs": [
    {
     "name": "stdout",
     "output_type": "stream",
     "text": [
      "OrderedDict([('linear.weight', tensor([[-8.5650,  1.6281,  1.6835,  1.5681,  2.1844],\n",
      "        [ 1.7448, -8.7873,  1.8697,  1.4239,  1.9011],\n",
      "        [ 1.7571,  1.9887, -8.8631,  1.8169,  1.9654],\n",
      "        [ 1.8132,  1.6689,  1.5685, -8.7354,  2.0691],\n",
      "        [ 2.0256,  1.7279,  1.5016,  1.6740, -8.6673]])), ('linear.bias', tensor([-0.1434,  0.0310, -0.1669, -0.0692, -0.0430]))])\n",
      "input: [0.47889086, 0.15229675, 0.31082123, 0.03504317, 0.18920843], pred: tensor(3), true: 3\n",
      "input: [0.94963533, 0.5524256, 0.95758807, 0.95520434, 0.84890681], pred: tensor(1), true: 1\n",
      "input: [0.78797868, 0.67482528, 0.13625847, 0.34675372, 0.09871392], pred: tensor(4), true: 4\n",
      "input: [0.89349776, 0.59416669, 0.92579291, 0.41567412, 0.7358894], pred: tensor(3), true: 3\n"
     ]
    }
   ],
   "source": [
    "def predict(model_path, input_vec):\n",
    "    input_size = 5\n",
    "    model = TorchModelDemo(input_size)\n",
    "    model.load_state_dict(torch.load(model_path))\n",
    "    print(model.state_dict())\n",
    "    \n",
    "    model.eval()\n",
    "    with torch.no_grad():\n",
    "        result = model.forward(torch.FloatTensor(input_vec))\n",
    "        \n",
    "    for vec, res in zip(input_vec, result):\n",
    "        print(\"input: %s, pred: %s, true: %s\" % (vec, torch.argmax(res), np.argmin(vec)))\n",
    "    \n",
    "test_vec = [[0.47889086, 0.15229675, 0.31082123, 0.03504317, 0.18920843],\n",
    "            [0.94963533, 0.5524256, 0.95758807, 0.95520434, 0.84890681],\n",
    "            [0.78797868, 0.67482528, 0.13625847, 0.34675372, 0.09871392],\n",
    "            [0.89349776, 0.59416669, 0.92579291, 0.41567412, 0.7358894]]\n",
    "predict(\"model.pt\", test_vec)"
   ]
  },
  {
   "cell_type": "code",
   "execution_count": null,
   "id": "f1d6dd5ecb29b98c",
   "metadata": {
    "collapsed": false,
    "jupyter": {
     "outputs_hidden": false
    }
   },
   "outputs": [],
   "source": []
  }
 ],
 "metadata": {
  "kernelspec": {
   "display_name": "Python 3 (ipykernel)",
   "language": "python",
   "name": "python3"
  },
  "language_info": {
   "codemirror_mode": {
    "name": "ipython",
    "version": 3
   },
   "file_extension": ".py",
   "mimetype": "text/x-python",
   "name": "python",
   "nbconvert_exporter": "python",
   "pygments_lexer": "ipython3",
   "version": "3.9.18"
  }
 },
 "nbformat": 4,
 "nbformat_minor": 5
}
